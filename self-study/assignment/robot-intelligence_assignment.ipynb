{
 "cells": [
  {
   "cell_type": "markdown",
   "metadata": {},
   "source": [
   ]
  },
  {
   "cell_type": "markdown",
   "metadata": {},
   "source": [
    "# README\n",
    "実装の具体的なテクニック、ソースコードについては『ゼロから作るDeep Learning』（オライリージャパン、斎藤康毅著）を参考にしています。  \n",
    "教師データとしてMNISTデータセットを使用します。  \n",
    "はじめに1章を実行すると作業ディレクトリにデータセットがpickle形式で保存されます。  \n",
    "2回目以降は2章以降をRun All Belowにより実行してください。\n",
    "\n",
    "## 目次\n",
    "1. **データセットのダウンロードと前処理**（2回目以降はスキップ）  \n",
    "    1.1 ダウンロード  \n",
    "    1.2 前処理  \n",
    "2. **ニューラルネットワークの構築**  \n",
    "    2.1 データのロード  \n",
    "    2.2 データのチェック  \n",
    "    2.3 ネットワークの構成  \n",
    "    2.4 関数群の定義  \n",
    "    2.5 誤差逆伝播の実装  \n",
    "    2.6 ニューラルネットのクラス実装  \n",
    "3. **ニューラルネットワークの学習（Back Propagation）**  \n",
    "4. **実験考察**  \n",
    "    4.1 ハイパーパラメータの変更  \n",
    "    4.2 ノイズ耐性の検証"
   ]
  },
  {
   "cell_type": "markdown",
   "metadata": {},
   "source": [
    "# 1. データセットのダウンロードと前処理"
   ]
  },
  {
   "cell_type": "markdown",
   "metadata": {},
   "source": [
    "## 1.1 ダウンロード\n",
    "今回は、教師データとして有名な、手書き数字認識学習用の[MNISTデータ](https://qiita.com/yoyoyo_/items/2ef53f47f87dcf5d1e14)を使用します。"
   ]
  },
  {
   "cell_type": "code",
   "execution_count": 133,
   "metadata": {},
   "outputs": [],
   "source": [
    "# working directryの絶対パス取得\n",
    "from pathlib import Path\n",
    "DATA_PATH = str(Path().resolve())"
   ]
  },
  {
   "cell_type": "code",
   "execution_count": 134,
   "metadata": {},
   "outputs": [
    {
     "name": "stdout",
     "output_type": "stream",
     "text": [
      "MNIST dataset will be downloaded into: \n",
      "/Users/TAKUMA/Documents/Development/Machine_Learning/deep-learning-from-scratch/self-study/assignment\n",
      "\n",
      "Downloading train-images-idx3-ubyte.gz ... \n",
      "Done\n",
      "Downloading train-labels-idx1-ubyte.gz ... \n",
      "Done\n",
      "Downloading t10k-images-idx3-ubyte.gz ... \n",
      "Done\n",
      "Downloading t10k-labels-idx1-ubyte.gz ... \n",
      "Done\n"
     ]
    }
   ],
   "source": [
    "# ダウンロード\n",
    "import urllib.request\n",
    "\n",
    "print(\"MNIST dataset will be downloaded into: \\n\" + DATA_PATH)\n",
    "print()\n",
    "\n",
    "url_base = 'http://yann.lecun.com/exdb/mnist/'\n",
    "key_file = {\n",
    "    'train_img':'train-images-idx3-ubyte.gz',\n",
    "    'train_label':'train-labels-idx1-ubyte.gz',\n",
    "    'test_img':'t10k-images-idx3-ubyte.gz',\n",
    "    'test_label':'t10k-labels-idx1-ubyte.gz'\n",
    "}\n",
    "\n",
    "for file_name in key_file.values():\n",
    "    file_path = DATA_PATH + \"/\" + file_name\n",
    "    print(\"Downloading \" + file_name + \" ... \")\n",
    "    urllib.request.urlretrieve(url_base + file_name, file_path)\n",
    "    print(\"Done\")"
   ]
  },
  {
   "cell_type": "code",
   "execution_count": 135,
   "metadata": {},
   "outputs": [],
   "source": [
    "# データの解凍とNumPy配列への変換\n",
    "import gzip\n",
    "import numpy as np\n",
    "\n",
    "img_size = 784 # 28×28\n",
    "\n",
    "# ラベルロード用の関数\n",
    "def load_label(file_name):\n",
    "    file_path = DATA_PATH + \"/\" + file_name\n",
    "\n",
    "    print(\"Converting \" + file_name + \" to NumPy Array ...\")\n",
    "    with gzip.open(file_path, 'rb') as f:\n",
    "            # offsetは末尾の余分データをカットするため\n",
    "            labels = np.frombuffer(f.read(), np.uint8, offset=8)\n",
    "    print(\"Done\")\n",
    "\n",
    "    return labels\n",
    "\n",
    "# 画像ロード用の関数\n",
    "def load_img(file_name):\n",
    "    file_path = DATA_PATH + \"/\" + file_name\n",
    "    print(\"Converting \" + file_name + \" to NumPy Array ...\")\n",
    "    with gzip.open(file_path, 'rb') as f:\n",
    "            data = np.frombuffer(f.read(), np.uint8, offset=16)\n",
    "    data = data.reshape(-1, img_size)\n",
    "    print(\"Done\")\n",
    "\n",
    "    return data\n",
    "                   \n",
    "\n",
    "# 各データをnumpy配列へ変換する\n",
    "def convert_numpy():\n",
    "    dataset = {}\n",
    "    dataset['train_img'] =  load_img(key_file['train_img'])\n",
    "    dataset['train_label'] = load_label(key_file['train_label'])\n",
    "    dataset['test_img'] = load_img(key_file['test_img'])\n",
    "    dataset['test_label'] = load_label(key_file['test_label'])\n",
    "\n",
    "    return dataset"
   ]
  },
  {
   "cell_type": "code",
   "execution_count": 136,
   "metadata": {},
   "outputs": [
    {
     "name": "stdout",
     "output_type": "stream",
     "text": [
      "Converting train-images-idx3-ubyte.gz to NumPy Array ...\n",
      "Done\n",
      "Converting train-labels-idx1-ubyte.gz to NumPy Array ...\n",
      "Done\n",
      "Converting t10k-images-idx3-ubyte.gz to NumPy Array ...\n",
      "Done\n",
      "Converting t10k-labels-idx1-ubyte.gz to NumPy Array ...\n",
      "Done\n"
     ]
    }
   ],
   "source": [
    "# 以上を実行\n",
    "dataset = convert_numpy()"
   ]
  },
  {
   "cell_type": "markdown",
   "metadata": {},
   "source": [
    "## 1.2 前処理"
   ]
  },
  {
   "cell_type": "markdown",
   "metadata": {},
   "source": [
    "データの前処理として行っておきたいことは以下の3つ。  \n",
    "1. **正規化(normalize)**: 画像のピクセル値を0.0~1.0に正規化する\n",
    "2. **one-hot表現**: 数字として表記されているラベルを、0か1のone-hot配列に置き換え\n",
    "3. **1次元化(flatten)**: 画素値のNumPy配列を1次元に整形する\n",
    "\n",
    "1次元化については、画像の読み込み時にすでに行っている。"
   ]
  },
  {
   "cell_type": "code",
   "execution_count": 137,
   "metadata": {},
   "outputs": [
    {
     "name": "stdout",
     "output_type": "stream",
     "text": [
      "Normalizing images and translating labels into one-hot ... \n",
      "Done\n"
     ]
    }
   ],
   "source": [
    "# 正規化とone-hot配列化\n",
    "print(\"Normalizing images and translating labels into one-hot ... \")\n",
    "\n",
    "# 1. normalization\n",
    "for key in ('train_img', 'test_img'):\n",
    "    dataset[key] = dataset[key].astype(np.float32)\n",
    "    dataset[key] /= 255.0\n",
    "    \n",
    "# 2. one-hot表現\n",
    "for key in ('train_label', 'test_label'):\n",
    "    X = dataset[key]\n",
    "    T = np.zeros((X.size, 10))\n",
    "    for idx, row in enumerate(T):\n",
    "        row[X[idx]] = 1\n",
    "        \n",
    "    dataset[key] = T\n",
    "    \n",
    "print(\"Done\")"
   ]
  },
  {
   "cell_type": "code",
   "execution_count": 138,
   "metadata": {},
   "outputs": [
    {
     "name": "stdout",
     "output_type": "stream",
     "text": [
      "Creating pickle file ...\n",
      "Done\n"
     ]
    }
   ],
   "source": [
    "# pickle形式への保存\n",
    "import pickle\n",
    "\n",
    "save_file = DATA_PATH + \"/mnist.pkl\"\n",
    "print(\"Creating pickle file ...\")\n",
    "with open(save_file, 'wb') as f:\n",
    "    pickle.dump(dataset, f, -1)\n",
    "print(\"Done\")"
   ]
  },
  {
   "cell_type": "markdown",
   "metadata": {},
   "source": [
    "## ----- 以上は初めの1回のみ使用、pickleファイル作成後は2から開始 -----"
   ]
  },
  {
   "cell_type": "markdown",
   "metadata": {},
   "source": [
    "# 2. ニューラルネットワークの構築"
   ]
  },
  {
   "cell_type": "markdown",
   "metadata": {},
   "source": [
    "## 2.1 データのロード"
   ]
  },
  {
   "cell_type": "code",
   "execution_count": 139,
   "metadata": {},
   "outputs": [
    {
     "name": "stdout",
     "output_type": "stream",
     "text": [
      "Dataset successfully loaded!\n",
      "\n"
     ]
    }
   ],
   "source": [
    "def load_mnist():\n",
    "    # pickleからdatasetのロード\n",
    "    with open(save_file, 'rb') as f:\n",
    "        dataset = pickle.load(f)\n",
    "    \n",
    "    print(\"Dataset successfully loaded!\\n\")\n",
    "    \n",
    "    \n",
    "load_mnist()\n",
    "(x_train, t_train), (x_test, t_test) = (dataset['train_img'], dataset['train_label']), (dataset['test_img'], dataset['test_label'])"
   ]
  },
  {
   "cell_type": "code",
   "execution_count": 140,
   "metadata": {},
   "outputs": [
    {
     "name": "stdout",
     "output_type": "stream",
     "text": [
      "(60000, 784)\n",
      "(60000, 10)\n",
      "(10000, 784)\n",
      "(10000, 10)\n"
     ]
    }
   ],
   "source": [
    "# データの形状を確認\n",
    "print(x_train.shape)\n",
    "print(t_train.shape)\n",
    "print(x_test.shape)\n",
    "print(t_test.shape)"
   ]
  },
  {
   "cell_type": "markdown",
   "metadata": {},
   "source": [
    "## 2.2 データのチェック\n",
    "PILという画像出力のためのモジュールを導入して、これからの画像認識の確認に用います。"
   ]
  },
  {
   "cell_type": "code",
   "execution_count": 141,
   "metadata": {},
   "outputs": [
    {
     "name": "stdout",
     "output_type": "stream",
     "text": [
      "label: \n",
      "[0. 0. 0. 0. 0. 0. 1. 0. 0. 0.]\n"
     ]
    }
   ],
   "source": [
    "from PIL import Image # 画像出力のためのモジュール\n",
    "import random\n",
    "\n",
    "# 画像を表示する関数\n",
    "def img_show(img):\n",
    "    pil_img = Image.fromarray(np.uint8(img)) # NumPyとして格納された画像データをPIL用のデータオブジェクトに変換\n",
    "    pil_img.show()\n",
    "    \n",
    "img_num = random.randint(0, 60000) # 教師データ60000枚の中からランダムに一枚選ぶ\n",
    "img = x_train[img_num]\n",
    "label = t_train[img_num]\n",
    "\n",
    "print(\"label: \")\n",
    "print(label)\n",
    "img = img.reshape(28, 28)  # 形状を元の画像サイズに変形\n",
    "img *= 255.0 # 画像表示のため、一旦正規化を解除する\n",
    "img_show(img) "
   ]
  },
  {
   "cell_type": "markdown",
   "metadata": {},
   "source": [
    "## 2.3 ネットワークの構成\n",
    "まず、次のように構成してみる。\n",
    "\n",
    "* ネットワークは、入力層を784個、出力層を10個のニューロンで構成\n",
    "    * 入力層の784は、画像サイズの28×28＝784から\n",
    "    * 出力層の10は、10クラス分類（0から9の10個）\n",
    "\n",
    "\n",
    "* 隠れ層は1つ\n",
    "    * 50個、または100個のニューロンを設置\n",
    "\n",
    "\n",
    "* 活性化関数\n",
    "    * 出力層には、確率として解釈可能で都合が良いsoftmax関数を用いる\n",
    "    * 単純化のため、1層目の重みも今回はsoftmax関数を用いてみる\n",
    "    \n",
    "    $$ y_k = \\frac{\\exp(a_k)}{\\sum_{i=1}^n\\exp(a_i)} $$\n",
    "    \n",
    "* 損失関数\n",
    "    * 一般には**2乗和誤差**\n",
    "    * 今回はBP学習とsoftmax関数に都合が良い、**交差エントロピー誤差**を用いる\n",
    "    \n",
    "    $$ E = - \\sum_{k}t_k\\log{y_k} $$\n",
    "    \n",
    " \n",
    "* ミニバッチ学習\n",
    "    * 損失関数の計算時間短縮のため、60000枚の学習データから、100枚を無作為に選んで繰り返し学習"
   ]
  },
  {
   "cell_type": "markdown",
   "metadata": {},
   "source": [
    "## 2.4 関数群の定義"
   ]
  },
  {
   "cell_type": "code",
   "execution_count": 142,
   "metadata": {},
   "outputs": [],
   "source": [
    "# softmax関数の定義\n",
    "import numpy as np\n",
    "\n",
    "def softmax(x):\n",
    "    if x.ndim == 2:\n",
    "        x = x.T\n",
    "        x = x - np.max(x, axis=0)\n",
    "        y = np.exp(x) / np.sum(np.exp(x), axis=0)\n",
    "        return y.T\n",
    "\n",
    "    x = x - np.max(x) # オーバーフロー対策\n",
    "    return np.exp(x) / np.sum(np.exp(x))"
   ]
  },
  {
   "cell_type": "code",
   "execution_count": 143,
   "metadata": {},
   "outputs": [],
   "source": [
    "# 損失関数 = 交差エントロピー誤差 の実装\n",
    "def cross_entropy_error(y, t):\n",
    "    delta = 1e-7\n",
    "    batch_size = y.shape[0] # 教師データから無作為に選んだバッチのサイズを取得\n",
    "    \n",
    "    return -np.sum(t * np.log(y + delta)) / batch_size # バッチサイズで正規化"
   ]
  },
  {
   "cell_type": "markdown",
   "metadata": {},
   "source": [
    "## 2.5 誤差逆伝播の実装\n",
    "これから、誤差逆伝播をレイヤーごとのクラスで実装していく。    \n",
    "Softmax関数の交差エントロピー誤差の逆伝播は、以下のシンプルな形になることが知られている。  \n",
    "（確認はレポートにて行う）\n",
    "\n",
    "$$ E_{backprop} =  y_k - t_k $$"
   ]
  },
  {
   "cell_type": "code",
   "execution_count": 144,
   "metadata": {},
   "outputs": [],
   "source": [
    "# softmax関数の交差エントロピー誤差の順伝播、逆伝播の実装\n",
    "class SoftmaxCrossEntropy:\n",
    "    def __init__(self):\n",
    "        self.loss = None # 損失の初期化\n",
    "        self.y = None # softmaxの出力初期化\n",
    "        self.t = None # 教師データの初期化\n",
    "        \n",
    "    # 順伝播 = 損失関数の計算\n",
    "    def forward(self, x, t):\n",
    "        self.t = t\n",
    "        self.y = softmax(x)\n",
    "        self.loss = cross_entropy_error(self.y, self.t)\n",
    "        \n",
    "        return self.loss\n",
    "    \n",
    "    # 逆伝播の実装\n",
    "    def backward(self, d_out=1):\n",
    "        batch_size = self.t.shape[0]\n",
    "        dx = (self.y - self.t) / batch_size # 逆伝播は出力 - 教師データ\n",
    "        \n",
    "        return dx"
   ]
  },
  {
   "cell_type": "markdown",
   "metadata": {},
   "source": [
    "隠れ層（重み付き和）部分の順伝播、誤差逆伝播の実装"
   ]
  },
  {
   "cell_type": "code",
   "execution_count": 145,
   "metadata": {},
   "outputs": [],
   "source": [
    "class Affine:\n",
    "    def __init__(self, W, b):\n",
    "        self.W = W\n",
    "        self.b = b\n",
    "        self.x = None\n",
    "        self.dW = None\n",
    "        self.db = None\n",
    "        \n",
    "    def forward(self, x):\n",
    "        self.x = x\n",
    "        out = np.dot(x, self.W) + self.b # 重み行列とのドット積計算、バイアスの加算\n",
    "        \n",
    "        return out\n",
    "    \n",
    "    def backward(self, d_out):\n",
    "        dx = np.dot(d_out, self.W.T)\n",
    "        self.dW = np.dot(self.x.T, d_out)\n",
    "        self.db = np.sum(d_out, axis=0)\n",
    "        \n",
    "        return dx"
   ]
  },
  {
   "cell_type": "markdown",
   "metadata": {},
   "source": [
    "## 2.6 ニューラルネットワークのクラス実装\n",
    "今回は、入力層、隠れ層1つ、出力層の3層ニューラルネットを構成する。  \n",
    "これをクラスで管理する。  \n",
    "重みの初期値設定については、のちに考察するが、まずは参考リンクに倣って、正規分布に0.01をかけたものを設定する。  \n",
    "参考リンク:[【機械学習】パラメータの重みの初期値](https://qiita.com/m-hayashi/items/02065a2e2ec3e2269e0b)"
   ]
  },
  {
   "cell_type": "code",
   "execution_count": 146,
   "metadata": {},
   "outputs": [],
   "source": [
    "import numpy as np\n",
    "from collections import OrderedDict\n",
    "\n",
    "class NeuralNetwork:\n",
    "    \n",
    "    def __init__(self, input_size, hidden_size, output_size, weight_init_std=0.01):\n",
    "        # 重みの初期化\n",
    "        self.params = {}\n",
    "        self.params['W1'] = weight_init_std * np.random.randn(input_size, hidden_size)\n",
    "        self.params['b1'] = np.zeros(hidden_size)\n",
    "        self.params['W2'] = weight_init_std * np.random.randn(hidden_size, output_size)\n",
    "        self.params['b2'] = np.zeros(output_size)\n",
    "        \n",
    "        # レイヤーの生成\n",
    "        self.layers = OrderedDict()\n",
    "        self.layers['Affine1'] = Affine(self.params['W1'], self.params['b1'])\n",
    "        self.layers['Affine2'] = Affine(self.params['W2'], self.params['b2'])\n",
    "        self.lastLayer = SoftmaxCrossEntropy()\n",
    "        \n",
    "    def predict(self, x):\n",
    "        for layer in self.layers.values():\n",
    "            x = layer.forward(x)\n",
    "            \n",
    "        return x\n",
    "    \n",
    "    def loss(self, x, t):\n",
    "        y = self.predict(x)\n",
    "        return self.lastLayer.forward(y, t)\n",
    "    \n",
    "    def accuracy(self, x, t):\n",
    "        y = self.predict(x)\n",
    "        y = np.argmax(y, axis=1) # 行方向に最大値を探索\n",
    "        if t.ndim != 1:\n",
    "            t = np.argmax(t, axis=1)\n",
    "        \n",
    "        accuracy = np.sum(y == t) / float(x.shape[0])\n",
    "        return accuracy\n",
    "    \n",
    "    def bp_learning(self, x, t):\n",
    "        # forward\n",
    "        self.loss(x, t)\n",
    "        \n",
    "        # backward\n",
    "        d_out = 1\n",
    "        d_out = self.lastLayer.backward(d_out)\n",
    "        \n",
    "        layers = list(self.layers.values())\n",
    "        layers.reverse() # listを反転\n",
    "        for layer in layers:\n",
    "            d_out = layer.backward(d_out)\n",
    "            \n",
    "        # 設定\n",
    "        grads = {}\n",
    "        grads['W1'] = self.layers['Affine1'].dW\n",
    "        grads['b1'] = self.layers['Affine1'].db\n",
    "        grads['W2'] = self.layers['Affine2'].dW\n",
    "        grads['b2'] = self.layers['Affine2'].db\n",
    "        \n",
    "        return grads"
   ]
  },
  {
   "cell_type": "markdown",
   "metadata": {},
   "source": [
    "# 3. ニューラルネットワークの学習"
   ]
  },
  {
   "cell_type": "code",
   "execution_count": 147,
   "metadata": {},
   "outputs": [],
   "source": [
    "import matplotlib.pyplot as plt\n",
    "\n",
    "\n",
    "def neural_execute(network, iters_num, train_size, batch_size, learning_rate):\n",
    "    train_loss_list = []\n",
    "    train_acc_list = []\n",
    "    test_acc_list = []\n",
    "\n",
    "    iter_per_epoch = max(train_size / batch_size, 1)\n",
    "\n",
    "    for i in range(iters_num):\n",
    "        batch_index = np.random.choice(train_size, batch_size)\n",
    "        x_batch = x_train[batch_index]\n",
    "        t_batch = t_train[batch_index]\n",
    "    \n",
    "        grad = network.bp_learning(x_batch, t_batch)\n",
    "        # 重み、バイアスの更新\n",
    "        for key in ('W1', 'b1', 'W2', 'b2'):\n",
    "            network.params[key] -= learning_rate * grad[key]\n",
    "        \n",
    "        loss = network.loss(x_batch, t_batch)\n",
    "        train_loss_list.append(loss)\n",
    "    \n",
    "        if i % iter_per_epoch == 0:\n",
    "            train_acc = network.accuracy(x_train, t_train)\n",
    "            test_acc = network.accuracy(x_test, t_test)\n",
    "            train_acc_list.append(train_acc)\n",
    "            test_acc_list.append(test_acc)\n",
    "            print(train_acc, test_acc)\n",
    "        \n",
    "    markers = {'train': 'o', 'test': 's'}\n",
    "    x = np.arange(len(train_acc_list))\n",
    "    plt.plot(x, train_acc_list, label='train acc')\n",
    "    plt.plot(x, test_acc_list, label='test acc', linestyle='--')\n",
    "    plt.xlabel(\"epochs\")\n",
    "    plt.ylabel(\"accuracy\")\n",
    "    plt.ylim(0, 1.0)\n",
    "    plt.legend(loc='lower right')\n",
    "    plt.show()"
   ]
  },
  {
   "cell_type": "code",
   "execution_count": 148,
   "metadata": {},
   "outputs": [
    {
     "name": "stdout",
     "output_type": "stream",
     "text": [
      "Dataset successfully loaded!\n",
      "\n",
      "0.06938333333333334 0.0712\n",
      "0.9043166666666667 0.9094\n",
      "0.9149 0.9165\n",
      "0.91525 0.9188\n",
      "0.9216833333333333 0.9212\n",
      "0.9202833333333333 0.9185\n",
      "0.9248166666666666 0.9213\n",
      "0.92545 0.9226\n",
      "0.924 0.9206\n",
      "0.9262833333333333 0.9222\n",
      "0.92795 0.924\n",
      "0.9261333333333334 0.9225\n",
      "0.9279 0.922\n",
      "0.9283333333333333 0.9227\n",
      "0.9297666666666666 0.9245\n",
      "0.9263 0.9207\n",
      "0.9260666666666667 0.9211\n"
     ]
    },
    {
     "data": {
      "image/png": "[encoded data removed]",
      "text/plain": [
       "<Figure size 432x288 with 1 Axes>"
      ]
     },
     "metadata": {},
     "output_type": "display_data"
    }
   ],
   "source": [
    "# 誤差逆伝播を用いた学習と分類、汎化能力検証\n",
    "\n",
    "load_mnist() # データのロード\n",
    "\n",
    "# 初期設定\n",
    "network = NeuralNetwork(input_size=784, hidden_size=50, output_size=10)\n",
    "iters_num = 10000 # 学習の反復回数\n",
    "train_size = x_train.shape[0]\n",
    "batch_size = 100 # バッチのサイズ\n",
    "learning_rate = 0.1 # 学習率\n",
    "\n",
    "# 実行\n",
    "neural_execute(network, iters_num, train_size, batch_size, learning_rate)"
   ]
  },
  {
   "cell_type": "markdown",
   "metadata": {},
   "source": [
    "# 4. 実験考察"
   ]
  },
  {
   "cell_type": "markdown",
   "metadata": {},
   "source": [
    "## 4.1 ハイパーパラメータの変更と影響\n",
    "まずはハイパーパラメータによる学習効率の変動を観察してみます。"
   ]
  },
  {
   "cell_type": "code",
   "execution_count": 149,
   "metadata": {},
   "outputs": [
    {
     "name": "stdout",
     "output_type": "stream",
     "text": [
      "0.12183333333333334 0.1296\n",
      "0.9034333333333333 0.9064\n",
      "0.91445 0.9173\n",
      "0.9184333333333333 0.9201\n",
      "0.9195 0.9179\n",
      "0.92155 0.9189\n",
      "0.9222833333333333 0.9195\n",
      "0.9246333333333333 0.9216\n",
      "0.9272 0.9227\n",
      "0.923 0.919\n",
      "0.9260166666666667 0.9221\n",
      "0.9284666666666667 0.9218\n",
      "0.9271833333333334 0.923\n",
      "0.929 0.9244\n",
      "0.9257 0.919\n",
      "0.9275666666666667 0.9227\n",
      "0.9264833333333333 0.9196\n"
     ]
    },
    {
     "data": {
      "image/png": "[encoded data removed]",
      "text/plain": [
       "<Figure size 432x288 with 1 Axes>"
      ]
     },
     "metadata": {},
     "output_type": "display_data"
    }
   ],
   "source": [
    "# 隠れ層のニューロンを100個に変更\n",
    "network = NeuralNetwork(input_size=784, hidden_size=100, output_size=10)\n",
    "neural_execute(network, iters_num, train_size, batch_size, learning_rate)"
   ]
  },
  {
   "cell_type": "code",
   "execution_count": 150,
   "metadata": {},
   "outputs": [
    {
     "name": "stdout",
     "output_type": "stream",
     "text": [
      "0.12906666666666666 0.125\n",
      "0.9016333333333333 0.9035\n",
      "0.9137333333333333 0.9153\n",
      "0.9186 0.9179\n",
      "0.92135 0.9201\n",
      "0.9217 0.9223\n",
      "0.9257833333333333 0.923\n",
      "0.9241833333333334 0.921\n",
      "0.9251166666666667 0.923\n",
      "0.92725 0.9217\n",
      "0.9267833333333333 0.9241\n",
      "0.9274333333333333 0.9195\n",
      "0.9278166666666666 0.925\n",
      "0.9288 0.9239\n",
      "0.9287833333333333 0.9237\n",
      "0.9291333333333334 0.9236\n",
      "0.9277666666666666 0.9221\n",
      "0.9300833333333334 0.9243\n",
      "0.9301666666666667 0.924\n",
      "0.92835 0.9219\n",
      "0.93165 0.9242\n",
      "0.9296666666666666 0.9225\n",
      "0.9304166666666667 0.9225\n",
      "0.9295333333333333 0.9241\n",
      "0.9321166666666667 0.9247\n",
      "0.9316833333333333 0.9247\n",
      "0.9308166666666666 0.9223\n",
      "0.9313833333333333 0.9229\n",
      "0.9321333333333334 0.9241\n",
      "0.9314833333333333 0.924\n",
      "0.9317166666666666 0.9223\n",
      "0.9312 0.9237\n",
      "0.9319333333333333 0.926\n",
      "0.9306166666666666 0.9235\n"
     ]
    },
    {
     "data": {
      "image/png": "[encoded data removed]",
      "text/plain": [
       "<Figure size 432x288 with 1 Axes>"
      ]
     },
     "metadata": {},
     "output_type": "display_data"
    }
   ],
   "source": [
    "# 学習の反復回数を増やす\n",
    "network = NeuralNetwork(input_size=784, hidden_size=50, output_size=10)\n",
    "iters_num = 20000 # 学習の反復回数\n",
    "neural_execute(network, iters_num, train_size, batch_size, learning_rate)"
   ]
  },
  {
   "cell_type": "code",
   "execution_count": 151,
   "metadata": {},
   "outputs": [
    {
     "name": "stdout",
     "output_type": "stream",
     "text": [
      "0.13213333333333332 0.1298\n",
      "0.9035333333333333 0.9073\n",
      "0.9120166666666667 0.9129\n",
      "0.9173333333333333 0.9181\n",
      "0.9199166666666667 0.92\n",
      "0.9222 0.9205\n",
      "0.9223166666666667 0.92\n",
      "0.9233666666666667 0.921\n",
      "0.9235333333333333 0.9229\n",
      "0.9254166666666667 0.9213\n",
      "0.92605 0.9224\n",
      "0.9275333333333333 0.9246\n",
      "0.9263166666666667 0.921\n",
      "0.9273 0.9217\n",
      "0.9278333333333333 0.9219\n",
      "0.928 0.9221\n",
      "0.9250833333333334 0.9225\n"
     ]
    },
    {
     "data": {
      "image/png": "[encoded data removed]",
      "text/plain": [
       "<Figure size 432x288 with 1 Axes>"
      ]
     },
     "metadata": {},
     "output_type": "display_data"
    }
   ],
   "source": [
    "# 重みの初期設定の変更（正規分布に乗算する係数の変更）\n",
    "network = NeuralNetwork(input_size=784, hidden_size=50, output_size=10, weight_init_std=0.1) # デフォルトは0.01\n",
    "iters_num = 10000 # 学習の反復回数\n",
    "neural_execute(network, iters_num, train_size, batch_size, learning_rate)"
   ]
  },
  {
   "cell_type": "code",
   "execution_count": 169,
   "metadata": {},
   "outputs": [
    {
     "name": "stdout",
     "output_type": "stream",
     "text": [
      "0.10036666666666667 0.0954\n",
      "0.8075 0.8122\n",
      "0.87365 0.8774\n",
      "0.8918833333333334 0.8953\n",
      "0.8991166666666667 0.903\n",
      "0.9047333333333333 0.908\n",
      "0.9084166666666667 0.9122\n",
      "0.9104333333333333 0.9122\n",
      "0.914 0.9157\n",
      "0.9142666666666667 0.9161\n",
      "0.9167166666666666 0.9178\n",
      "0.9168 0.9175\n",
      "0.9184666666666667 0.9183\n",
      "0.91955 0.9193\n",
      "0.92035 0.92\n",
      "0.9208833333333334 0.9217\n",
      "0.92225 0.9221\n"
     ]
    },
    {
     "data": {
      "image/png": "[encoded data removed]",
      "text/plain": [
       "<Figure size 432x288 with 1 Axes>"
      ]
     },
     "metadata": {},
     "output_type": "display_data"
    }
   ],
   "source": [
    "# 学習率を2倍に（0.01 => 0.02)\n",
    "network = NeuralNetwork(input_size=784, hidden_size=50, output_size=10, weight_init_std=0.01)\n",
    "neural_execute(network, iters_num, train_size, batch_size, learning_rate=0.02)"
   ]
  },
  {
   "cell_type": "markdown",
   "metadata": {},
   "source": [
    "## 4.2 ノイズ耐性の実験"
   ]
  },
  {
   "cell_type": "code",
   "execution_count": 157,
   "metadata": {},
   "outputs": [],
   "source": [
    "# ノイズの付加\n",
    "import numpy as np\n",
    "\n",
    "def add_noise(d):\n",
    "    x_test_noise = np.copy(x_test) # 初期化\n",
    "    noise_size = d * x_test.shape[1] # 784画素のうち、dの割合をnoiseのsizeとする\n",
    "    noise = np.random.rand(10000, 784) # x_testと同じ形状のノイズをあらかじめ用意\n",
    "    for i in range(x_test.shape[0]): # テストデータ1万枚について再帰的にノイズ付加\n",
    "        noise_index = np.random.choice(x_test.shape[1], int(noise_size))\n",
    "        for j in noise_index:\n",
    "            x_test_noise[i][j] = noise[i][j] # index部分のみノイズに置き換え\n",
    "    \n",
    "    return x_test_noise\n",
    "\n",
    "x_test_noise = add_noise(d=0.05)"
   ]
  },
  {
   "cell_type": "code",
   "execution_count": 158,
   "metadata": {},
   "outputs": [],
   "source": [
    "# ノイズがのったかどうかを画像表示して確認\n",
    "img = x_test_noise[0] # 10000枚のうち1枚目\n",
    "img = img.reshape(28, 28)  # 形状を元の画像サイズに変形\n",
    "img *= 255.0 # 画像表示のため、一旦正規化を解除する\n",
    "img_show(img)"
   ]
  },
  {
   "cell_type": "code",
   "execution_count": 160,
   "metadata": {},
   "outputs": [],
   "source": [
    "# ノイズ用のneural network実行関数\n",
    "def neural_execute_noise(network, iters_num, train_size, batch_size, learning_rate):\n",
    "    train_loss_list = []\n",
    "    train_acc_list = []\n",
    "    test_acc_list = []\n",
    "\n",
    "    iter_per_epoch = max(train_size / batch_size, 1)\n",
    "\n",
    "    for i in range(iters_num):\n",
    "        batch_index = np.random.choice(train_size, batch_size)\n",
    "        x_batch = x_train[batch_index]\n",
    "        t_batch = t_train[batch_index]\n",
    "    \n",
    "        grad = network.bp_learning(x_batch, t_batch)\n",
    "        # 重み、バイアスの更新\n",
    "        for key in ('W1', 'b1', 'W2', 'b2'):\n",
    "            network.params[key] -= learning_rate * grad[key]\n",
    "        \n",
    "        loss = network.loss(x_batch, t_batch)\n",
    "        train_loss_list.append(loss)\n",
    "    \n",
    "        if i % iter_per_epoch == 0:\n",
    "            train_acc = network.accuracy(x_train, t_train)\n",
    "            test_acc = network.accuracy(x_test_noise, t_test) # ここを変更\n",
    "            train_acc_list.append(train_acc)\n",
    "            test_acc_list.append(test_acc)\n",
    "            print(train_acc, test_acc)\n",
    "        \n",
    "    markers = {'train': 'o', 'test': 's'}\n",
    "    x = np.arange(len(train_acc_list))\n",
    "    plt.plot(x, train_acc_list, label='train acc')\n",
    "    plt.plot(x, test_acc_list, label='test acc', linestyle='--')\n",
    "    plt.xlabel(\"epochs\")\n",
    "    plt.ylabel(\"accuracy\")\n",
    "    plt.ylim(0, 1.0)\n",
    "    plt.legend(loc='lower right')\n",
    "    plt.show()"
   ]
  },
  {
   "cell_type": "code",
   "execution_count": 161,
   "metadata": {},
   "outputs": [],
   "source": [
    "# 初期設定\n",
    "network = NeuralNetwork(input_size=784, hidden_size=50, output_size=10)\n",
    "iters_num = 10000 # 学習の反復回数\n",
    "train_size = x_train.shape[0]\n",
    "batch_size = 100 # バッチのサイズ\n",
    "learning_rate = 0.1 # 学習率"
   ]
  },
  {
   "cell_type": "code",
   "execution_count": 162,
   "metadata": {},
   "outputs": [
    {
     "name": "stdout",
     "output_type": "stream",
     "text": [
      "0.10285 0.107\n",
      "0.9020666666666667 0.9022\n",
      "0.9147833333333333 0.9139\n",
      "0.91555 0.9137\n",
      "0.9191333333333334 0.9155\n",
      "0.9206 0.9117\n",
      "0.9224166666666667 0.9137\n",
      "0.9256166666666666 0.9127\n",
      "0.9247166666666666 0.9117\n",
      "0.9277 0.9109\n",
      "0.9274666666666667 0.9095\n",
      "0.9289833333333334 0.9095\n",
      "0.92415 0.9132\n",
      "0.926 0.9068\n",
      "0.9287333333333333 0.9073\n",
      "0.9285333333333333 0.9071\n",
      "0.92945 0.9041\n"
     ]
    },
    {
     "data": {
      "image/png": "[encoded data removed]",
      "text/plain": [
       "<Figure size 432x288 with 1 Axes>"
      ]
     },
     "metadata": {},
     "output_type": "display_data"
    }
   ],
   "source": [
    "# ノイズ5%での実行\n",
    "x_test_noise = add_noise(d=0.05)\n",
    "neural_execute_noise(network, iters_num, train_size, batch_size, learning_rate)"
   ]
  },
  {
   "cell_type": "code",
   "execution_count": 165,
   "metadata": {},
   "outputs": [
    {
     "name": "stdout",
     "output_type": "stream",
     "text": [
      "0.08565 0.0863\n",
      "0.9011666666666667 0.8951\n",
      "0.9124 0.9036\n",
      "0.9168166666666666 0.8947\n",
      "0.9203166666666667 0.8907\n",
      "0.9217333333333333 0.8962\n",
      "0.9221 0.8903\n",
      "0.92495 0.883\n",
      "0.9251666666666667 0.8668\n",
      "0.9263833333333333 0.8769\n",
      "0.9280666666666667 0.872\n",
      "0.9223333333333333 0.8426\n",
      "0.9284833333333333 0.8649\n",
      "0.9295333333333333 0.849\n",
      "0.93 0.8438\n",
      "0.9295166666666667 0.8449\n",
      "0.93115 0.8311\n"
     ]
    },
    {
     "data": {
      "image/png": "[encoded data removed]",
      "text/plain": [
       "<Figure size 432x288 with 1 Axes>"
      ]
     },
     "metadata": {},
     "output_type": "display_data"
    }
   ],
   "source": [
    "# ノイズ10%での実行\n",
    "x_test_noise = add_noise(d=0.10)\n",
    "network = NeuralNetwork(input_size=784, hidden_size=50, output_size=10)\n",
    "neural_execute_noise(network, iters_num, train_size, batch_size, learning_rate)"
   ]
  },
  {
   "cell_type": "code",
   "execution_count": 166,
   "metadata": {},
   "outputs": [
    {
     "name": "stdout",
     "output_type": "stream",
     "text": [
      "0.14248333333333332 0.1328\n",
      "0.9018666666666667 0.884\n",
      "0.9143833333333333 0.877\n",
      "0.9172333333333333 0.8733\n",
      "0.9206166666666666 0.8587\n",
      "0.9194 0.8351\n",
      "0.92195 0.834\n",
      "0.9235166666666667 0.8516\n",
      "0.92595 0.8317\n",
      "0.9257166666666666 0.8024\n",
      "0.9264666666666667 0.7874\n",
      "0.9266 0.783\n",
      "0.9278833333333333 0.767\n",
      "0.9278666666666666 0.7767\n",
      "0.9276 0.7419\n",
      "0.9287 0.7571\n",
      "0.9296 0.7783\n"
     ]
    },
    {
     "data": {
      "image/png": "[encoded data removed]",
      "text/plain": [
       "<Figure size 432x288 with 1 Axes>"
      ]
     },
     "metadata": {},
     "output_type": "display_data"
    }
   ],
   "source": [
    "# ノイズ15%での実行\n",
    "network = NeuralNetwork(input_size=784, hidden_size=50, output_size=10)\n",
    "x_test_noise = add_noise(d=0.15)\n",
    "neural_execute_noise(network, iters_num, train_size, batch_size, learning_rate)"
   ]
  },
  {
   "cell_type": "code",
   "execution_count": 167,
   "metadata": {},
   "outputs": [
    {
     "name": "stdout",
     "output_type": "stream",
     "text": [
      "0.17675 0.141\n",
      "0.9024666666666666 0.8429\n",
      "0.9135 0.8175\n",
      "0.9190166666666667 0.7715\n",
      "0.9218666666666666 0.7492\n",
      "0.9238666666666666 0.6919\n",
      "0.9236 0.6908\n",
      "0.9237333333333333 0.6908\n",
      "0.92685 0.6354\n",
      "0.9267666666666666 0.6417\n",
      "0.9274166666666667 0.6136\n",
      "0.9275166666666667 0.6097\n",
      "0.9277666666666666 0.5909\n",
      "0.9239166666666667 0.6148\n",
      "0.9268333333333333 0.5116\n",
      "0.9277 0.5612\n",
      "0.9281166666666667 0.523\n"
     ]
    },
    {
     "data": {
      "image/png": "[encoded data removed]",
      "text/plain": [
       "<Figure size 432x288 with 1 Axes>"
      ]
     },
     "metadata": {},
     "output_type": "display_data"
    }
   ],
   "source": [
    "# ノイズ25%での実行\n",
    "network = NeuralNetwork(input_size=784, hidden_size=50, output_size=10)\n",
    "x_test_noise = add_noise(d=0.25)\n",
    "neural_execute_noise(network, iters_num, train_size, batch_size, learning_rate)"
   ]
  },
  {
   "cell_type": "code",
   "execution_count": 168,
   "metadata": {},
   "outputs": [
    {
     "name": "stdout",
     "output_type": "stream",
     "text": [
      "0.13 0.1153\n",
      "0.9022333333333333 0.8533\n",
      "0.9124333333333333 0.7922\n",
      "0.91725 0.8006\n",
      "0.9213166666666667 0.7157\n",
      "0.9213833333333333 0.7092\n",
      "0.92545 0.6635\n",
      "0.9260333333333334 0.6378\n",
      "0.925 0.5845\n",
      "0.9256333333333333 0.6294\n",
      "0.92455 0.6304\n",
      "0.9269 0.5935\n",
      "0.9276666666666666 0.6113\n",
      "0.9279166666666666 0.5738\n",
      "0.9293666666666667 0.5532\n",
      "0.9286333333333333 0.5349\n",
      "0.9293333333333333 0.5486\n"
     ]
    },
    {
     "data": {
      "image/png": "[encoded data removed]",
      "text/plain": [
       "<Figure size 432x288 with 1 Axes>"
      ]
     },
     "metadata": {},
     "output_type": "display_data"
    }
   ],
   "source": [
    "# ノイズ25%で、隠れ層のニューロンを増やしてみる（50個から100個へ）\n",
    "network = NeuralNetwork(input_size=784, hidden_size=100, output_size=10)\n",
    "x_test_noise = add_noise(d=0.25)\n",
    "neural_execute_noise(network, iters_num, train_size, batch_size, learning_rate)"
   ]
  },
  {
   "cell_type": "code",
   "execution_count": null,
   "metadata": {},
   "outputs": [],
   "source": []
  }
 ],
 "metadata": {
  "kernelspec": {
   "display_name": "Python 3",
   "language": "python",
   "name": "python3"
  },
  "language_info": {
   "codemirror_mode": {
    "name": "ipython",
    "version": 3
   },
   "file_extension": ".py",
   "mimetype": "text/x-python",
   "name": "python",
   "nbconvert_exporter": "python",
   "pygments_lexer": "ipython3",
   "version": "3.6.5"
  }
 },
 "nbformat": 4,
 "nbformat_minor": 2
}
